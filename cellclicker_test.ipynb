{
 "cells": [
  {
   "cell_type": "code",
   "execution_count": null,
   "id": "3146bf11",
   "metadata": {},
   "outputs": [],
   "source": []
  },
  {
   "cell_type": "markdown",
   "id": "2476d321",
   "metadata": {},
   "source": [
    "REsizing"
   ]
  },
  {
   "cell_type": "code",
   "execution_count": 2,
   "id": "a475f0d4",
   "metadata": {},
   "outputs": [],
   "source": [
    "from CellClicker.cell_clicker import ImageViewer\n",
    "import tkinter as tk\n",
    "if __name__ == \"__main__\":\n",
    "    root = tk.Tk()\n",
    "    app = ImageViewer(root)\n",
    "    root.mainloop()\n"
   ]
  },
  {
   "cell_type": "code",
   "execution_count": 1,
   "id": "88ff8658",
   "metadata": {},
   "outputs": [
    {
     "name": "stdout",
     "output_type": "stream",
     "text": [
      "Selected XML File: E:/Scott/Data/20240417\\user_selections\\Scott.xml\n",
      "Selected XML: E:/Scott/Data/20240417\\user_selections\\Scott.xml\n",
      "E:\\Scott\\Data\\20240417\\images\\20240417_P1_t047.png\n",
      "E:\\Scott\\Data\\20240417\\images\\20240417_P1_t047.png\n",
      "E:\\Scott\\Data\\20240417\\images\\20240417_P1_t014.png\n",
      "E:\\Scott\\Data\\20240417\\images\\20240417_P1_t047.png\n",
      "E:\\Scott\\Data\\20240417\\images\\20240417_P1_t014.png\n",
      "E:\\Scott\\Data\\20240417\\images\\20240417_P1_t058.png\n",
      "E:\\Scott\\Data\\20240417\\images\\20240417_P1_t047.png\n",
      "E:\\Scott\\Data\\20240417\\images\\20240417_P1_t014.png\n",
      "E:\\Scott\\Data\\20240417\\images\\20240417_P1_t058.png\n",
      "E:\\Scott\\Data\\20240417\\images\\20240417_P1_t060.png\n",
      "E:\\Scott\\Data\\20240417\\images\\20240417_P1_t047.png\n",
      "E:\\Scott\\Data\\20240417\\images\\20240417_P1_t014.png\n",
      "E:\\Scott\\Data\\20240417\\images\\20240417_P1_t058.png\n",
      "E:\\Scott\\Data\\20240417\\images\\20240417_P1_t060.png\n",
      "E:\\Scott\\Data\\20240417\\images\\20240417_P1_t054.png\n",
      "E:\\Scott\\Data\\20240417\\images\\20240417_P1_t047.png\n",
      "E:\\Scott\\Data\\20240417\\images\\20240417_P1_t014.png\n",
      "E:\\Scott\\Data\\20240417\\images\\20240417_P1_t058.png\n",
      "E:\\Scott\\Data\\20240417\\images\\20240417_P1_t060.png\n",
      "E:\\Scott\\Data\\20240417\\images\\20240417_P1_t054.png\n",
      "E:\\Scott\\Data\\20240417\\images\\20240417_P2_t025.png\n",
      "E:\\Scott\\Data\\20240417\\images\\20240417_P1_t047.png\n",
      "E:\\Scott\\Data\\20240417\\images\\20240417_P1_t014.png\n",
      "E:\\Scott\\Data\\20240417\\images\\20240417_P1_t058.png\n",
      "E:\\Scott\\Data\\20240417\\images\\20240417_P1_t060.png\n",
      "E:\\Scott\\Data\\20240417\\images\\20240417_P1_t054.png\n",
      "E:\\Scott\\Data\\20240417\\images\\20240417_P2_t025.png\n",
      "Loading 7 image sets\n"
     ]
    },
    {
     "name": "stderr",
     "output_type": "stream",
     "text": [
      "Exception in Tkinter callback\n",
      "Traceback (most recent call last):\n",
      "  File \"c:\\Users\\u1604360\\.conda\\envs\\CellToolsGPU\\lib\\tkinter\\__init__.py\", line 1892, in __call__\n",
      "    return self.func(*args)\n",
      "  File \"e:\\Scott\\GitHub\\CelFDrive\\CellClicker\\image_selector_multiphase.py\", line 60, in <lambda>\n",
      "    window.protocol(\"WM_DELETE_WINDOW\", lambda: on_window_close(window, root))\n",
      "NameError: name 'on_window_close' is not defined\n"
     ]
    }
   ],
   "source": [
    "from CellClicker.image_selector_multiphase import load_ui_from_folder\n",
    "\n",
    "load_ui_from_folder()"
   ]
  },
  {
   "cell_type": "code",
   "execution_count": null,
   "id": "ae625a4a",
   "metadata": {},
   "outputs": [],
   "source": []
  },
  {
   "cell_type": "code",
   "execution_count": null,
   "id": "5ad32a63",
   "metadata": {},
   "outputs": [],
   "source": []
  },
  {
   "cell_type": "code",
   "execution_count": null,
   "id": "814efbe7",
   "metadata": {},
   "outputs": [],
   "source": []
  }
 ],
 "metadata": {
  "kernelspec": {
   "display_name": "Python 3 (ipykernel)",
   "language": "python",
   "name": "python3"
  },
  "language_info": {
   "codemirror_mode": {
    "name": "ipython",
    "version": 3
   },
   "file_extension": ".py",
   "mimetype": "text/x-python",
   "name": "python",
   "nbconvert_exporter": "python",
   "pygments_lexer": "ipython3",
   "version": "3.9.19"
  }
 },
 "nbformat": 4,
 "nbformat_minor": 5
}
